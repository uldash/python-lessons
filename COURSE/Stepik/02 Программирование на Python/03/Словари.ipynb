{
 "cells": [
  {
   "cell_type": "markdown",
   "metadata": {},
   "source": [
    "Множества:"
   ]
  },
  {
   "cell_type": "code",
   "execution_count": 4,
   "metadata": {},
   "outputs": [
    {
     "name": "stdout",
     "output_type": "stream",
     "text": [
      "{'apple', 'orange', 'pear'}\n",
      "True\n",
      "False\n"
     ]
    }
   ],
   "source": [
    "s=set()\n",
    "basket={'apple','orange','apple','pear','apple'}\n",
    "print(basket)\n",
    "print('orange' in basket)\n",
    "print('python' in basket)"
   ]
  },
  {
   "cell_type": "markdown",
   "metadata": {},
   "source": [
    "Словари:"
   ]
  },
  {
   "cell_type": "code",
   "execution_count": 6,
   "metadata": {},
   "outputs": [
    {
     "name": "stdout",
     "output_type": "stream",
     "text": [
      "239\n",
      "100\n"
     ]
    }
   ],
   "source": [
    "d={'a':239,10:100}\n",
    "print(d['a'])\n",
    "print(d[10])"
   ]
  },
  {
   "cell_type": "markdown",
   "metadata": {},
   "source": [
    "Напишите функцию update_dictionary(d, key, value), которая принимает на вход словарь d и два числа: key и value.\n",
    "\n",
    "Если ключ key есть в словаре d, то добавьте значение value в список, который хранится по этому ключу. \n",
    "Если ключа key нет в словаре, то нужно добавить значение в список по ключу 2⋅key. Если и ключа 2⋅key нет, то нужно добавить ключ 2⋅key в словарь и сопоставить ему список из переданного элемента [value].\n",
    "\n",
    "Требуется реализовать только эту функцию, кода вне неё не должно быть.\n",
    "Функция не должна вызывать внутри себя функции input и print.\n",
    "\n",
    "Пример работы функции:  \n",
    "\n",
    "d = {}  \n",
    "print(update_dictionary(d, 1, -1))  # None  \n",
    "print(d)                            # {2:\\[-1]}  \n",
    "update_dictionary(d, 2, -2)  \n",
    "print(d)                            # {2:\\[-1, -2]}  \n",
    "update_dictionary(d, 1, -3)\n",
    "print(d)                            # {2:\\[-1, -2, -3]}  "
   ]
  },
  {
   "cell_type": "code",
   "execution_count": 12,
   "metadata": {},
   "outputs": [
    {
     "name": "stdout",
     "output_type": "stream",
     "text": [
      "None\n",
      "{2: [-1]}\n",
      "{2: [-1, -2]}\n",
      "{2: [-1, -2, -3]}\n"
     ]
    }
   ],
   "source": [
    "def update_dictionary(d,key,value):\n",
    "    if key in d:\n",
    "       d[key].append(value)\n",
    "    elif 2*key in d:\n",
    "       d[2*key].append(value)\n",
    "    else:\n",
    "        d.update({2*key:[value]})\n",
    "d = {}\n",
    "print(update_dictionary(d, 1, -1))  # None\n",
    "print(d)                            # {2: [-1]}\n",
    "update_dictionary(d, 2, -2)\n",
    "print(d)                            # {2: [-1, -2]}\n",
    "update_dictionary(d, 1, -3)\n",
    "print(d)                            # {2: [-1, -2, -3]}"
   ]
  },
  {
   "cell_type": "markdown",
   "metadata": {},
   "source": [
    "Когда Антон прочитал «Войну и мир», ему стало интересно, сколько слов и в каком количестве используется в этой книге.\n",
    "\n",
    "Помогите Антону написать упрощённую версию такой программы, которая сможет подсчитать слова, разделённые пробелом и вывести получившуюся статистику.\n",
    "\n",
    "Программа должна считывать одну строку со стандартного ввода и выводить для каждого уникального слова в этой строке число его повторений (без учёта регистра) в формате \"слово количество\" (см. пример вывода). \n",
    "Порядок вывода слов может быть произвольным, каждое уникальное слово﻿ должно выводиться только один раз."
   ]
  },
  {
   "cell_type": "code",
   "execution_count": 23,
   "metadata": {},
   "outputs": [
    {
     "name": "stdout",
     "output_type": "stream",
     "text": [
      "a aa abC aa ac abc bcd a\n",
      "a 2\n",
      "aa 2\n",
      "abc 2\n",
      "ac 1\n",
      "bcd 1\n"
     ]
    }
   ],
   "source": [
    "#lst=[s.lower() for s in input().split()]\n",
    "lst=input().lower().split()\n",
    "#print(lst)\n",
    "d=dict()\n",
    "for i in lst:\n",
    "    if i in d:\n",
    "        d.update({i:d[i]+1})\n",
    "    else:\n",
    "        d.update({i:1})\n",
    "print('\\n'.join(k+' '+str(v) for k,v in d.items()))\n",
    "    "
   ]
  },
  {
   "cell_type": "code",
   "execution_count": 25,
   "metadata": {},
   "outputs": [
    {
     "name": "stdout",
     "output_type": "stream",
     "text": [
      "a aa abC aa ac abc bcd a\n",
      "a 2\n",
      "aa 2\n",
      "abc 2\n",
      "ac 1\n",
      "bcd 1\n"
     ]
    }
   ],
   "source": [
    "lst = input().lower().split()\n",
    "a = {i:lst.count(i)for i in lst}\n",
    "print('\\n'.join(k+' '+str(v) for k,v in d.items()))"
   ]
  },
  {
   "cell_type": "markdown",
   "metadata": {},
   "source": [
    "Имеется реализованная функция f(x), принимающая на вход целое число x, которая вычисляет некоторое целочисленое значение и возвращает его в качестве результата работы.\n",
    "\n",
    "Функция вычисляется достаточно долго, ничего не выводит на экран, не пишет в файлы и зависит только от переданного аргумента x.\n",
    "\n",
    "Напишите программу, которой на вход в первой строке подаётся число n — количество значений x, для которых требуется узнать значение функции f(x), после чего сами эти n значений, каждое на отдельной строке. Программа должна после каждого введённого значения аргумента вывести соответствующие значения функции f на отдельной строке.\n",
    "\n",
    "Для ускорения вычисления необходимо сохранять уже вычисленные значения функции при известных аргументах.\n",
    "\n",
    "Обратите внимание, что в этой задаче установлено достаточно сильное ограничение в две секунды по времени исполнения кода на тесте.\n",
    "\n",
    "Sample Input:  \n",
    "\n",
    "5  \n",
    "5  \n",
    "12  \n",
    "9  \n",
    "20  \n",
    "12  \n",
    "Sample Output:  \n",
    "\n",
    "11  \n",
    "41  \n",
    "47  \n",
    "61  \n",
    "41  "
   ]
  },
  {
   "cell_type": "code",
   "execution_count": 29,
   "metadata": {},
   "outputs": [
    {
     "name": "stdout",
     "output_type": "stream",
     "text": [
      "3\n",
      "1\n",
      "2\n",
      "2\n",
      "4\n",
      "1\n",
      "2\n"
     ]
    }
   ],
   "source": [
    "def f(x):\n",
    "    return x*2\n",
    "n=int(input())\n",
    "d=dict()\n",
    "for i in range(n):\n",
    "    x=int(input())\n",
    "    if x in d:\n",
    "        print(d[x])\n",
    "    else:\n",
    "        d.update({x:f(x)})\n",
    "        print(d[x])\n",
    "    "
   ]
  },
  {
   "cell_type": "code",
   "execution_count": null,
   "metadata": {},
   "outputs": [],
   "source": []
  },
  {
   "cell_type": "code",
   "execution_count": null,
   "metadata": {},
   "outputs": [],
   "source": []
  }
 ],
 "metadata": {
  "kernelspec": {
   "display_name": "Python 3",
   "language": "python",
   "name": "python3"
  },
  "language_info": {
   "codemirror_mode": {
    "name": "ipython",
    "version": 3
   },
   "file_extension": ".py",
   "mimetype": "text/x-python",
   "name": "python",
   "nbconvert_exporter": "python",
   "pygments_lexer": "ipython3",
   "version": "3.6.5"
  }
 },
 "nbformat": 4,
 "nbformat_minor": 2
}
