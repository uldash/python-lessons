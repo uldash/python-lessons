{
 "cells": [
  {
   "cell_type": "code",
   "execution_count": 1,
   "metadata": {},
   "outputs": [
    {
     "data": {
      "text/plain": [
       "range"
      ]
     },
     "execution_count": 1,
     "metadata": {},
     "output_type": "execute_result"
    }
   ],
   "source": [
    "type(range(10))"
   ]
  },
  {
   "cell_type": "code",
   "execution_count": 5,
   "metadata": {},
   "outputs": [
    {
     "name": "stdout",
     "output_type": "stream",
     "text": [
      "acggtgttat\n",
      "40.0\n"
     ]
    }
   ],
   "source": [
    "str=input()\n",
    "print(100*(str.upper().count('C')+str.upper().count('G'))/len(str))"
   ]
  },
  {
   "cell_type": "code",
   "execution_count": 7,
   "metadata": {},
   "outputs": [
    {
     "name": "stdout",
     "output_type": "stream",
     "text": [
      "T\n",
      "TTC\n",
      "ATTC\n",
      "GGAGCT\n",
      "AGCT\n",
      "TTCGGAGC\n",
      "TCGG\n",
      "TCGAGGCTTA\n"
     ]
    }
   ],
   "source": [
    "dna='ATTCGGAGCT'\n",
    "print(dna[1])\n",
    "print(dna[1:4])\n",
    "print(dna[:4])\n",
    "print(dna[4:])\n",
    "print(dna[-4:])\n",
    "print(dna[1:-1])\n",
    "print(dna[1:-1:2])\n",
    "print(dna[::-1])"
   ]
  },
  {
   "cell_type": "code",
   "execution_count": 2,
   "metadata": {},
   "outputs": [
    {
     "name": "stdout",
     "output_type": "stream",
     "text": [
      "YES\n",
      "NO\n"
     ]
    }
   ],
   "source": [
    "#Полиндром\n",
    "str='CAGGTGGAC'\n",
    "if str==str[::-1]:\n",
    "    print('YES')\n",
    "str='GATTACA'\n",
    "if str!=str[::-1]:\n",
    "    print('NO')"
   ]
  },
  {
   "cell_type": "code",
   "execution_count": 3,
   "metadata": {},
   "outputs": [
    {
     "name": "stdout",
     "output_type": "stream",
     "text": [
      "def abcdef defghijk kjihgfedcba ijk abcde kigec\n"
     ]
    }
   ],
   "source": [
    "s = 'abcdefghijk'\n",
    "print(s[3:6],s[:6],s[3:],s[::-1],s[-3:],s[:-6],s[-1:-10:-2])"
   ]
  },
  {
   "cell_type": "markdown",
   "metadata": {},
   "source": [
    "Узнав, что ДНК не является случайной строкой, только что поступившие в Институт биоинформатики студенты группы информатиков предложили использовать алгоритм сжатия, который сжимает повторяющиеся символы в строке.\n",
    "\n",
    "Кодирование осуществляется следующим образом:\n",
    "s = 'aaaabbсaa' преобразуется в 'a4b2с1a2', то есть группы одинаковых символов исходной строки заменяются на этот символ и количество его повторений в этой позиции строки.\n",
    "\n",
    "Напишите программу, которая считывает строку, кодирует её предложенным алгоритмом и выводит закодированную последовательность на стандартный вывод. Кодирование должно учитывать регистр символов."
   ]
  },
  {
   "cell_type": "code",
   "execution_count": 18,
   "metadata": {},
   "outputs": [
    {
     "name": "stdout",
     "output_type": "stream",
     "text": [
      "aaaabbcaa\n",
      "----\n",
      "a4b2c1a2\n"
     ]
    }
   ],
   "source": [
    "s=input()\n",
    "txt=''\n",
    "i=0\n",
    "try:\n",
    "    while i < len(s):\n",
    "        j=1\n",
    "        while s[i]==s[i+1]:\n",
    "            i+=1\n",
    "            j+=1\n",
    "        txt+=s[i]+str(j)\n",
    "        i+=1\n",
    "except IndexError:\n",
    "    txt+=s[i]+str(j)\n",
    "print(txt)\n"
   ]
  },
  {
   "cell_type": "code",
   "execution_count": null,
   "metadata": {},
   "outputs": [],
   "source": []
  }
 ],
 "metadata": {
  "kernelspec": {
   "display_name": "Python 3",
   "language": "python",
   "name": "python3"
  },
  "language_info": {
   "codemirror_mode": {
    "name": "ipython",
    "version": 3
   },
   "file_extension": ".py",
   "mimetype": "text/x-python",
   "name": "python",
   "nbconvert_exporter": "python",
   "pygments_lexer": "ipython3",
   "version": "3.6.5"
  }
 },
 "nbformat": 4,
 "nbformat_minor": 2
}
