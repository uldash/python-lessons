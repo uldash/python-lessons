{
 "cells": [
  {
   "cell_type": "code",
   "execution_count": 2,
   "metadata": {},
   "outputs": [
    {
     "name": "stdout",
     "output_type": "stream",
     "text": [
      "2\n"
     ]
    }
   ],
   "source": [
    "def min2(a,b):\n",
    "    if a<=b:\n",
    "        return a\n",
    "    else:\n",
    "        return b\n",
    "print(min2(2,5))"
   ]
  },
  {
   "cell_type": "code",
   "execution_count": 5,
   "metadata": {},
   "outputs": [
    {
     "name": "stdout",
     "output_type": "stream",
     "text": [
      "10555\n"
     ]
    }
   ],
   "source": [
    "def f(n):\n",
    "    return n * 10 + 5\n",
    "print(f(f(f(10))))"
   ]
  },
  {
   "cell_type": "markdown",
   "metadata": {},
   "source": [
    "Произвольное число параметров."
   ]
  },
  {
   "cell_type": "code",
   "execution_count": 45,
   "metadata": {},
   "outputs": [
    {
     "name": "stdout",
     "output_type": "stream",
     "text": [
      "3\n",
      "[5, 3, 6, 10]\n"
     ]
    }
   ],
   "source": [
    "def min2(*a):\n",
    "    m=a[0]\n",
    "    for x in a:\n",
    "        if m>x:\n",
    "            m=x\n",
    "    return m\n",
    "print(min2(5,3,6,10))\n",
    "print(min2([5,3,6,10]))"
   ]
  },
  {
   "cell_type": "markdown",
   "metadata": {},
   "source": [
    "Значения парамеметров по умолчанию:\n",
    "    "
   ]
  },
  {
   "cell_type": "markdown",
   "metadata": {},
   "source": [
    "Передача параметров по имени"
   ]
  },
  {
   "cell_type": "code",
   "execution_count": 2,
   "metadata": {},
   "outputs": [
    {
     "name": "stdout",
     "output_type": "stream",
     "text": [
      "7.25\n",
      "-5.25\n",
      "-0.5\n"
     ]
    }
   ],
   "source": [
    "def f(x):\n",
    "    if x<=-2:\n",
    "        return 1-(x+2)**2\n",
    "    elif -2<x<=2:\n",
    "        return -x/2\n",
    "    else:\n",
    "        return (x-2)**2+1\n",
    "print(f(4.5),f(-4.5),f(1),sep=\"\\n\")"
   ]
  },
  {
   "cell_type": "markdown",
   "metadata": {},
   "source": [
    "Напишите функцию modify_list(l), которая принимает на вход список целых чисел, удаляет из него все нечётные значения, а чётные нацело делит на два. Функция не должна ничего возвращать, требуется только изменение переданного списка, например:  \n",
    "\n",
    "lst = [1, 2, 3, 4, 5, 6]  \n",
    "print(modify_list(lst))  # None  \n",
    "print(lst)               # [1, 2, 3]  \n",
    "modify_list(lst)  \n",
    "print(lst)               # [1]  \n",
    "  \n",
    "lst = [10, 5, 8, 3]  \n",
    "modify_list(lst)  \n",
    "print(lst)               # [5, 4]  \n",
    "Функция не должна осуществлять ввод/вывод информации.  "
   ]
  },
  {
   "cell_type": "code",
   "execution_count": 43,
   "metadata": {},
   "outputs": [
    {
     "name": "stdout",
     "output_type": "stream",
     "text": [
      "None\n",
      "[1, 2, 3]\n",
      "[1]\n",
      "[5, 4]\n",
      "[]\n",
      "[0, 0, 0, 0]\n",
      "[0, 0, 49]\n"
     ]
    }
   ],
   "source": [
    "def modify_list(l):\n",
    "    for i in range(len(l)-1,-1,-1):\n",
    "       # print(i)\n",
    "        if l[i]%2!=0:\n",
    "            del l[i]\n",
    "        else:\n",
    "            l[i]//=2\n",
    "            \n",
    "lst = [1, 2, 3, 3, 5, 4, 5, 7, 6]\n",
    "print(modify_list(lst))\n",
    "print(lst)\n",
    "modify_list(lst)\n",
    "print(lst)\n",
    "\n",
    "lst = [10, 5, 8, 3]\n",
    "modify_list(lst)\n",
    "print(lst)               \n",
    "\n",
    "lst = [1,3,5,7]\n",
    "modify_list(lst)\n",
    "print(lst)          \n",
    "\n",
    "lst = [0,0,0,0]\n",
    "modify_list(lst)\n",
    "print(lst)          \n",
    "lst = [0,5,0,98]\n",
    "modify_list(lst)\n",
    "print(lst)          \n"
   ]
  },
  {
   "cell_type": "code",
   "execution_count": null,
   "metadata": {},
   "outputs": [],
   "source": []
  }
 ],
 "metadata": {
  "kernelspec": {
   "display_name": "Python 3",
   "language": "python",
   "name": "python3"
  },
  "language_info": {
   "codemirror_mode": {
    "name": "ipython",
    "version": 3
   },
   "file_extension": ".py",
   "mimetype": "text/x-python",
   "name": "python",
   "nbconvert_exporter": "python",
   "pygments_lexer": "ipython3",
   "version": "3.6.5"
  }
 },
 "nbformat": 4,
 "nbformat_minor": 2
}
