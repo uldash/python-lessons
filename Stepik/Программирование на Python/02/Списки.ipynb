{
 "cells": [
  {
   "cell_type": "code",
   "execution_count": 2,
   "metadata": {},
   "outputs": [
    {
     "name": "stdout",
     "output_type": "stream",
     "text": [
      "Hello Ivan!\n",
      "Hello Masha!\n",
      "Hello Sasha!\n"
     ]
    }
   ],
   "source": [
    "students=['Ivan','Masha','Sasha']\n",
    "for student in students:\n",
    "    print('Hello '+student+'!')"
   ]
  },
  {
   "cell_type": "markdown",
   "metadata": {},
   "source": [
    "Списки являютя изменяемыми.\n"
   ]
  },
  {
   "cell_type": "code",
   "execution_count": 4,
   "metadata": {},
   "outputs": [
    {
     "name": "stdout",
     "output_type": "stream",
     "text": [
      "['Ivan', 'Natasha', 'Masha', 'Sasha', 'Olga']\n"
     ]
    }
   ],
   "source": [
    "students=['Ivan','Masha','Sasha']\n",
    "students.append('Olga')\n",
    "students.insert(1,'Natasha')\n",
    "print(students)"
   ]
  },
  {
   "cell_type": "code",
   "execution_count": 6,
   "metadata": {},
   "outputs": [
    {
     "name": "stdout",
     "output_type": "stream",
     "text": [
      "['Ivan', 'Masha', 'Sasha', 'Olga', 'O', 'l', 'g', 'a'] \n",
      " 8\n"
     ]
    }
   ],
   "source": [
    "students = ['Ivan', 'Masha', 'Sasha']\n",
    "students += ['Olga']\n",
    "students += 'Olga'\n",
    "print(students,\"\\n\",len(students))"
   ]
  },
  {
   "cell_type": "code",
   "execution_count": 7,
   "metadata": {},
   "outputs": [
    {
     "name": "stdout",
     "output_type": "stream",
     "text": [
      "['Masha']\n"
     ]
    }
   ],
   "source": [
    "students = ['Ivan', 'Masha', 'Sasha']\n",
    "students.remove('Sasha') #удаляет первое вхождение\n",
    "del students[0]\n",
    "print(students)"
   ]
  },
  {
   "cell_type": "markdown",
   "metadata": {},
   "source": [
    "Присвоение списков"
   ]
  },
  {
   "cell_type": "code",
   "execution_count": 9,
   "metadata": {},
   "outputs": [
    {
     "name": "stdout",
     "output_type": "stream",
     "text": [
      "[1, 'A', 2]\n",
      "[1, 'A', 2]\n",
      "[42, 'A', 2]\n",
      "[42, 'A', 2]\n"
     ]
    }
   ],
   "source": [
    "a=[1,'A',2]\n",
    "b=a\n",
    "print(a,b,sep='\\n')\n",
    "a[0]=42\n",
    "print(a,b,sep='\\n')"
   ]
  },
  {
   "cell_type": "code",
   "execution_count": 10,
   "metadata": {},
   "outputs": [
    {
     "name": "stdout",
     "output_type": "stream",
     "text": [
      "[20, 10, 3]\n"
     ]
    }
   ],
   "source": [
    "a = [1, 2, 3]\n",
    "b = a\n",
    "# значения списка b?\n",
    "\n",
    "a[1] = 10\n",
    "# значения списка b?\n",
    "\n",
    "b[0] = 20\n",
    "# значения списка a?\n",
    "\n",
    "a = [5, 6]\n",
    "# значения списка b?\n",
    "print(b)"
   ]
  },
  {
   "cell_type": "markdown",
   "metadata": {},
   "source": [
    "Напишите программу, на вход которой подается одна строка с целыми числами. Программа должна вывести сумму этих чисел.\n",
    "\n",
    "Используйте метод split строки. "
   ]
  },
  {
   "cell_type": "code",
   "execution_count": 12,
   "metadata": {},
   "outputs": [
    {
     "name": "stdout",
     "output_type": "stream",
     "text": [
      "4 -1 9 3\n",
      "15\n"
     ]
    }
   ],
   "source": [
    "a=[int(i) for i in input().split()]\n",
    "s=0\n",
    "for i in a:\n",
    "   s+=i\n",
    "print(s)"
   ]
  },
  {
   "cell_type": "markdown",
   "metadata": {},
   "source": [
    "Напишите программу, на вход которой подаётся список чисел одной строкой. Программа должна для каждого элемента этого списка вывести сумму двух его соседей. Для элементов списка, являющихся крайними, одним из соседей считается элемент, находящий на противоположном конце этого списка. Например, если на вход подаётся список \"1 3 5 6 10\", то на выход ожидается список \"13 6 9 15 7\" (без кавычек).\n",
    "\n",
    "Если на вход пришло только одно число, надо вывести его же.\n",
    "\n",
    "Вывод должен содержать одну строку с числами нового списка, разделёнными пробелом."
   ]
  },
  {
   "cell_type": "code",
   "execution_count": 4,
   "metadata": {},
   "outputs": [
    {
     "name": "stdout",
     "output_type": "stream",
     "text": [
      "10 12\n",
      "24 20\n"
     ]
    }
   ],
   "source": [
    "a=[int(i) for i in input().split()]\n",
    "i=0\n",
    "b=[]\n",
    "if len(a)==1:\n",
    "    print(a[0])\n",
    "else:\n",
    "    for i in range(len(a)):\n",
    "        b.append(a[i-1]+a[(i+1)%len(a)])\n",
    "    print(' '.join(str(i) for i in b))"
   ]
  },
  {
   "cell_type": "markdown",
   "metadata": {},
   "source": [
    "апишите программу, которая принимает на вход список чисел в одной строке и выводит на экран в одну строку значения, которые повторяются в нём более одного раза.\n",
    "\n",
    "Для решения задачи может пригодиться метод sort списка.\n",
    "\n",
    "Выводимые числа не должны повторяться, порядок их вывода может быть произвольным."
   ]
  },
  {
   "cell_type": "code",
   "execution_count": 35,
   "metadata": {},
   "outputs": [
    {
     "name": "stdout",
     "output_type": "stream",
     "text": [
      "1 1 1 2 2 3\n",
      "1 2\n"
     ]
    }
   ],
   "source": [
    "a=[int(i) for i in input().split()]\n",
    "a.sort()\n",
    "b=set()\n",
    "for i in range(1,len(a)):\n",
    "    if a[i-1]==a[i]:\n",
    "        b.add(a[i])\n",
    "print(' '.join(str(i) for i in b))"
   ]
  },
  {
   "cell_type": "code",
   "execution_count": 36,
   "metadata": {},
   "outputs": [
    {
     "name": "stdout",
     "output_type": "stream",
     "text": [
      "1 1 1 1 2 2 3\n",
      "1 2\n"
     ]
    }
   ],
   "source": [
    "a, b = [int(i) for i in input().split()], []\n",
    "for i in a:\n",
    "    if a.count(i) > 1 and b.count(i) == 0:\n",
    "        b.append(i)\n",
    "print(' '.join(str(i) for i in b))"
   ]
  },
  {
   "cell_type": "code",
   "execution_count": 39,
   "metadata": {},
   "outputs": [
    {
     "name": "stdout",
     "output_type": "stream",
     "text": [
      "1 1 2 2 3\n",
      "2 1\n"
     ]
    }
   ],
   "source": [
    "s = input().split()\n",
    "print (*(i for i in set(s) if s.count(i) > 1))"
   ]
  },
  {
   "cell_type": "code",
   "execution_count": 43,
   "metadata": {},
   "outputs": [
    {
     "name": "stdout",
     "output_type": "stream",
     "text": [
      "1  4  7  \n",
      "2  5  8  \n",
      "3  6  9  \n"
     ]
    }
   ],
   "source": [
    "a=[[1,2,3],[4,5,6],[7,8,9]]\n",
    "for i in range(len(a)):\n",
    "    for j in range (len(a[0])):\n",
    "        print(a[j][i],' ',end='')\n",
    "    print()"
   ]
  },
  {
   "cell_type": "code",
   "execution_count": 1,
   "metadata": {},
   "outputs": [
    {
     "name": "stdout",
     "output_type": "stream",
     "text": [
      "0 0 0 \n",
      "0 0 0 \n",
      "0 0 0 \n",
      "5 5 5 \n",
      "0 0 0 \n",
      "0 0 0 \n",
      "\n",
      "0 0 0 \n",
      "0 0 0 \n",
      "0 0 0 \n",
      "5 0 0 \n",
      "0 0 0 \n",
      "0 0 0 \n",
      "\n",
      "0 0 0 \n",
      "0 0 0 \n",
      "0 0 0 \n",
      "5 0 0 \n",
      "0 0 0 \n",
      "0 0 0 \n",
      "\n"
     ]
    }
   ],
   "source": [
    "#Генерация двумерных саисков\n",
    "def pr(a,n):\n",
    "    for i in range(len(a)):\n",
    "        for j in range (len(a[0])):\n",
    "            print(a[j][i],'',end='')\n",
    "        print()\n",
    "n=3\n",
    "a=[[0]*n]*n\n",
    "pr(a,n)\n",
    "a[0][0]=5\n",
    "pr(a,n)\n",
    "print()\n",
    "\n",
    "a=[[0]*n for i in range(n)]\n",
    "pr(a,n)\n",
    "a[0][0]=5\n",
    "pr(a,n)\n",
    "print()\n",
    "\n",
    "a=[[0 for j in range(n)] for i in range(n)]\n",
    "pr(a,n)\n",
    "a[0][0]=5\n",
    "pr(a,n)\n",
    "print()"
   ]
  },
  {
   "cell_type": "code",
   "execution_count": null,
   "metadata": {},
   "outputs": [],
   "source": []
  }
 ],
 "metadata": {
  "kernelspec": {
   "display_name": "Python 3",
   "language": "python",
   "name": "python3"
  },
  "language_info": {
   "codemirror_mode": {
    "name": "ipython",
    "version": 3
   },
   "file_extension": ".py",
   "mimetype": "text/x-python",
   "name": "python",
   "nbconvert_exporter": "python",
   "pygments_lexer": "ipython3",
   "version": "3.6.5"
  }
 },
 "nbformat": 4,
 "nbformat_minor": 2
}
