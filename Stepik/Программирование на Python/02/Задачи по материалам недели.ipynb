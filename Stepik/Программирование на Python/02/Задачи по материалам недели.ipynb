{
 "cells": [
  {
   "cell_type": "code",
   "execution_count": 3,
   "metadata": {},
   "outputs": [
    {
     "name": "stdout",
     "output_type": "stream",
     "text": [
      "3\n"
     ]
    }
   ],
   "source": [
    "#Поиск минимума в списке\n",
    "a=[5,8,4,3,5,7]\n",
    "s=a[0]\n",
    "for i in range(1,len(a)):\n",
    "    if s>a[i]:\n",
    "        s=a[i]\n",
    "print(s)"
   ]
  },
  {
   "cell_type": "code",
   "execution_count": 8,
   "metadata": {},
   "outputs": [
    {
     "name": "stdout",
     "output_type": "stream",
     "text": [
      "5 4 4\n",
      "1 1\n",
      "2 2\n",
      "2 3\n",
      "4 1\n",
      "*  3  2  1  \n",
      "2  *  *  1  \n",
      "2  3  2  1  \n",
      "*  1  .  .  \n",
      "1  1  .  .  \n"
     ]
    }
   ],
   "source": [
    "#Сапер, поле n x m, k мин\n",
    "#вводим k координат мин\n",
    "n,m,k=(int(i) for i in input().split())\n",
    "a=[[0 for j in range(m)] for i in range(n)]\n",
    "for i in range(k):\n",
    "    row,col = (int(i)-1 for i in input().split())\n",
    "    a[row][col]=-1\n",
    "for i in range(n):\n",
    "    for j in range(m):\n",
    "        if a[i][j]==0:\n",
    "            for di in range(-1,2):\n",
    "                for dj in range(-1,2):\n",
    "                    ai=i+di\n",
    "                    aj=j+dj\n",
    "                    if 0<=ai<n and 0<=aj<m and a[ai][aj]==-1:\n",
    "                        a[i][j]+=1\n",
    "\n",
    "for i in range(n):\n",
    "    for j in range(m):\n",
    "        if a[i][j]==-1:\n",
    "            print('*',' ',end='')\n",
    "        elif a[i][j]==0:\n",
    "            print('.',' ',end='')\n",
    "        else:\n",
    "            print(a[i][j],' ',end='')\n",
    "    print()"
   ]
  },
  {
   "cell_type": "markdown",
   "metadata": {},
   "source": [
    "Напишите программу, которая считывает с консоли числа (по одному в строке) до тех пор, пока сумма введённых чисел не будет равна 0 и сразу после этого выводит сумму квадратов всех считанных чисел.\n",
    "\n",
    "Гарантируется, что в какой-то момент сумма введённых чисел окажется равной 0, после этого считывание продолжать не нужно.\n",
    "\n",
    "В примере мы считываем числа 1, -3, 5, -6, -10, 13; в этот момент замечаем, что сумма этих чисел равна нулю и выводим сумму их квадратов, не обращая внимания на то, что остались ещё не прочитанные значения.\n"
   ]
  },
  {
   "cell_type": "code",
   "execution_count": 6,
   "metadata": {},
   "outputs": [
    {
     "name": "stdout",
     "output_type": "stream",
     "text": [
      "1\n",
      "-3\n",
      "5\n",
      "-6\n",
      "-10\n",
      "13\n",
      "340\n"
     ]
    }
   ],
   "source": [
    "def summ(a):\n",
    "    s=0\n",
    "    for i in a:\n",
    "        s+=i\n",
    "    return s\n",
    "def summsumm(a):\n",
    "    s=0\n",
    "    for i in a:\n",
    "        s+=i*i\n",
    "    return s\n",
    "a=list()\n",
    "while True:\n",
    "    a.append(int(input()))\n",
    "    if summ(a)==0:\n",
    "        break\n",
    "print(summsumm(a))"
   ]
  },
  {
   "cell_type": "markdown",
   "metadata": {},
   "source": [
    "Напишите программу, которая выводит часть последовательности 1 2 2 3 3 3 4 4 4 4 5 5 5 5 5 ... (число повторяется столько раз, чему равно). На вход программе передаётся неотрицательное целое число n — столько элементов последовательности должна отобразить программа. На выходе ожидается последовательность чисел, записанных через пробел в одну строку.\n",
    "\n",
    "Например, если n = 7, то программа должна вывести 1 2 2 3 3 3 4."
   ]
  },
  {
   "cell_type": "code",
   "execution_count": 7,
   "metadata": {},
   "outputs": [
    {
     "name": "stdout",
     "output_type": "stream",
     "text": [
      "46\n",
      "1 2 2 3 3 3 4 4 4 4 5 5 5 5 5 6 6 6 6 6 6 7 7 7 7 7 7 7 8 8 8 8 8 8 8 8 9 9 9 9 9 9 9 9 9 10\n"
     ]
    }
   ],
   "source": [
    "n=int(input())\n",
    "a=list()\n",
    "for i in range(1,n+1):\n",
    "    for j in range(i):\n",
    "        a.append(i)\n",
    "print(*a[:n])"
   ]
  },
  {
   "cell_type": "code",
   "execution_count": 18,
   "metadata": {},
   "outputs": [
    {
     "name": "stdout",
     "output_type": "stream",
     "text": [
      "1 2 2\n",
      "2\n",
      "1 2\n"
     ]
    }
   ],
   "source": [
    "a=list(int(i) for i in input().split())\n",
    "x=int(input())\n",
    "b=list()\n",
    "for i in range(len(a)):\n",
    "    if x==a[i]:\n",
    "        b.append(i)\n",
    "b.sort()    \n",
    "if len(b)>0:\n",
    "    print(*b)\n",
    "else:\n",
    "    print('Отсутствует')"
   ]
  },
  {
   "cell_type": "markdown",
   "metadata": {},
   "source": [
    "Напишите программу, на вход которой подаётся прямоугольная матрица в виде последовательности строк, заканчивающихся строкой, содержащей только строку \"end\" (без кавычек)\n",
    "\n",
    "Программа должна вывести матрицу того же размера, у которой каждый элемент в позиции i, j равен сумме элементов первой матрицы на позициях (i-1, j), (i+1, j), (i, j-1), (i, j+1). У крайних символов соседний элемент находится с противоположной стороны матрицы.\n",
    "\n",
    "В случае одной строки/столбца элемент сам себе является соседом по соответствующему направлению."
   ]
  },
  {
   "cell_type": "code",
   "execution_count": 27,
   "metadata": {},
   "outputs": [
    {
     "name": "stdout",
     "output_type": "stream",
     "text": [
      "1\n",
      "2\n",
      "3\n",
      "end\n",
      "7 \n",
      "8 \n",
      "9 \n"
     ]
    }
   ],
   "source": [
    "def printmatrix(a):\n",
    "    for i in range(len(a)):\n",
    "        for j in range (len(a[0])):\n",
    "            print(a[i][j],'',end='')\n",
    "        print()\n",
    "\n",
    "flag=True\n",
    "a=list()\n",
    "while flag:\n",
    "    b=list()\n",
    "    for i in input().split():\n",
    "        if i=='end':\n",
    "            flag=False\n",
    "        else:\n",
    "            b.append(int(i))\n",
    "    if len(b)>0:\n",
    "        a.append(b)\n",
    "n=len(a)        \n",
    "m=len(a[0])\n",
    "b=list([0 for j in range(m)] for i in range(n))\n",
    "for i in range(n):\n",
    "    for j in range(m):\n",
    "        b[i][j]=a[i-1][j]+a[(i+1)%n][j]+a[i][j-1]+a[i][(j+1)%m]\n",
    "\n",
    "printmatrix(b)"
   ]
  },
  {
   "cell_type": "code",
   "execution_count": 2,
   "metadata": {},
   "outputs": [
    {
     "name": "stdout",
     "output_type": "stream",
     "text": [
      "false\n",
      "2\n"
     ]
    }
   ],
   "source": [
    "a=[1,2]\n",
    "b=[1,2,3]\n",
    "if a==b:\n",
    "    print('true')\n",
    "else:\n",
    "    print('false')\n",
    "print(a[-1])"
   ]
  },
  {
   "cell_type": "markdown",
   "metadata": {},
   "source": [
    "Выведите таблицу размером n×n, заполненную числами от 1 до n\\*\\*2 по спирали, выходящей из левого верхнего угла и закрученной по часовой стрелке, как показано в примере (здесь n=5):  \n",
    "1 2 3 4 5  \n",
    "16 17 18 19 6  \n",
    "15 24 25 20 7  \n",
    "14 23 22 21 8  \n",
    "13 12 11 10 9  "
   ]
  },
  {
   "cell_type": "code",
   "execution_count": 6,
   "metadata": {},
   "outputs": [
    {
     "name": "stdout",
     "output_type": "stream",
     "text": [
      "6\n",
      "1 2 3 4 5 6\n",
      "20 21 22 23 24 7\n",
      "19 32 33 34 25 8\n",
      "18 31 36 35 26 9\n",
      "17 30 29 28 27 10\n",
      "16 15 14 13 12 11\n"
     ]
    }
   ],
   "source": [
    "class MyList(list):\n",
    "    def __getitem__(self, index):\n",
    "        if index < 0:\n",
    "            raise IndexError(\"list index out of range\")\n",
    "        return super(MyList, self).__getitem__(index)\n",
    "\n",
    "def printmatrix(a):\n",
    "    for i in range(len(a)):\n",
    "        for j in range (len(a[0])):\n",
    "            if j==len(a[0])-1:\n",
    "                print(a[i][j],end='')\n",
    "            else:\n",
    "                print(a[i][j],'',end='')\n",
    "        print()\n",
    "        \n",
    "def up(i,j):\n",
    "    return i-1,j\n",
    "def down(i,j):\n",
    "    return i+1,j\n",
    "def left(i,j):\n",
    "    return i,j-1\n",
    "def right(i,j):\n",
    "    return i,j+1\n",
    "\n",
    "n=int(input())\n",
    "a=MyList([0 for j in range(n)] for i in range(n))\n",
    "b=['right','down','left','up']\n",
    "d=list(i for i in range(1,n**2+1))\n",
    "napr=0\n",
    "scht_napr=0\n",
    "i=0\n",
    "j=0\n",
    "a[i][j]=d[0]\n",
    "k=1\n",
    "while k <= n**2:\n",
    "    if b[napr]=='left':\n",
    "        di,dj=left(i,j)\n",
    "    elif b[napr]=='down':\n",
    "        di,dj=down(i,j)\n",
    "    elif b[napr]=='right':\n",
    "        di,dj=right(i,j)\n",
    "    elif b[napr]=='up':\n",
    "        di,dj=up(i,j)        \n",
    "    try:\n",
    "        if a[di][dj]!=0:\n",
    "            raise\n",
    "        a[di][dj]=d[k]\n",
    "        i=di\n",
    "        j=dj\n",
    "        k+=1\n",
    "        scht_napr=0\n",
    "    except:\n",
    "        napr=(napr+1)%4\n",
    "        #print(b[napr])\n",
    "        if scht_napr>4:#если 4 раза подрят повернулись, но не сдвинулись - выходим\n",
    "            break\n",
    "        scht_napr+=1\n",
    "    #printmatrix(a)\n",
    "\n",
    "printmatrix(a)\n",
    "#print(d)"
   ]
  },
  {
   "cell_type": "code",
   "execution_count": 9,
   "metadata": {},
   "outputs": [
    {
     "name": "stdout",
     "output_type": "stream",
     "text": [
      "5\n",
      "1 2 3 4 5\n",
      "16 17 18 19 6\n",
      "15 24 25 20 7\n",
      "14 23 22 21 8\n",
      "13 12 11 10 9\n"
     ]
    }
   ],
   "source": [
    "n = int(input())\n",
    "x,y,dx,dy, m = 0,0,0,1, [[0]*n for i in range(n)]\n",
    "for i in range(n*n):\n",
    "  m[x][y]=str(i+1)\n",
    "  if x+dx>=n or x+dx<0 or y+dy>=n or y+dy<0 or m[x+dx][y+dy]:\n",
    "      dx,dy = dy,-dx\n",
    "  x,y = x+dx, y+dy\n",
    "print(\"\\n\".join([\" \".join(i) for i in m]))"
   ]
  },
  {
   "cell_type": "code",
   "execution_count": 10,
   "metadata": {},
   "outputs": [
    {
     "name": "stdout",
     "output_type": "stream",
     "text": [
      "5\n",
      "1 2 3 4 5\n",
      "16 17 18 19 6\n",
      "15 24 25 20 7\n",
      "14 23 22 21 8\n",
      "13 12 11 10 9\n"
     ]
    },
    {
     "data": {
      "text/plain": [
       "[None, None, None, None, None]"
      ]
     },
     "execution_count": 10,
     "metadata": {},
     "output_type": "execute_result"
    }
   ],
   "source": [
    "n = int(input())\n",
    "m = [[0] * n for i in range(n)]\n",
    "i, j, di, dj = 0, 0, 0, 1\n",
    "\n",
    "for k in range(n * n):\n",
    "    m[i][j] = k + 1\n",
    "    if (not -1 < i + di < n) or (not -1 < j + dj < n) or m[i + di][j + dj] != 0:\n",
    "        di, dj = dj, -di\n",
    "    i, j = i + di, j + dj\n",
    "\n",
    "[print(*i) for i in m]"
   ]
  },
  {
   "cell_type": "code",
   "execution_count": null,
   "metadata": {},
   "outputs": [],
   "source": []
  }
 ],
 "metadata": {
  "kernelspec": {
   "display_name": "Python 3",
   "language": "python",
   "name": "python3"
  },
  "language_info": {
   "codemirror_mode": {
    "name": "ipython",
    "version": 3
   },
   "file_extension": ".py",
   "mimetype": "text/x-python",
   "name": "python",
   "nbconvert_exporter": "python",
   "pygments_lexer": "ipython3",
   "version": "3.6.5"
  }
 },
 "nbformat": 4,
 "nbformat_minor": 2
}
